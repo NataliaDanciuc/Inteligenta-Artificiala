{
  "nbformat": 4,
  "nbformat_minor": 0,
  "metadata": {
    "colab": {
      "provenance": [],
      "collapsed_sections": []
    },
    "kernelspec": {
      "name": "python3",
      "display_name": "Python 3"
    },
    "widgets": {
      "application/vnd.jupyter.widget-state+json": {
        "4050360cea6849d5ba29e208aa48b1de": {
          "model_module": "@jupyter-widgets/controls",
          "model_name": "VBoxModel",
          "model_module_version": "1.5.0",
          "state": {
            "_dom_classes": [
              "widget-interact"
            ],
            "_model_module": "@jupyter-widgets/controls",
            "_model_module_version": "1.5.0",
            "_model_name": "VBoxModel",
            "_view_count": null,
            "_view_module": "@jupyter-widgets/controls",
            "_view_module_version": "1.5.0",
            "_view_name": "VBoxView",
            "box_style": "",
            "children": [
              "IPY_MODEL_dad7751d3beb4e09912f718f1db5590b",
              "IPY_MODEL_b97e2d471f54449380a04127fe31e27f",
              "IPY_MODEL_60f29bef822d440586320091644c1b19"
            ],
            "layout": "IPY_MODEL_3c3c7ccf27de41edbae32bdb74c76f9f"
          }
        },
        "dad7751d3beb4e09912f718f1db5590b": {
          "model_module": "@jupyter-widgets/controls",
          "model_name": "FloatSliderModel",
          "model_module_version": "1.5.0",
          "state": {
            "_dom_classes": [],
            "_model_module": "@jupyter-widgets/controls",
            "_model_module_version": "1.5.0",
            "_model_name": "FloatSliderModel",
            "_view_count": null,
            "_view_module": "@jupyter-widgets/controls",
            "_view_module_version": "1.5.0",
            "_view_name": "FloatSliderView",
            "continuous_update": true,
            "description": "slope",
            "description_tooltip": null,
            "disabled": false,
            "layout": "IPY_MODEL_6224029924ec47c8a083b043473d950b",
            "max": 5,
            "min": -2,
            "orientation": "horizontal",
            "readout": true,
            "readout_format": ".2f",
            "step": 0.5,
            "style": "IPY_MODEL_0d91b8dcd2a648d8a3f2f245870ae2aa",
            "value": 1
          }
        },
        "b97e2d471f54449380a04127fe31e27f": {
          "model_module": "@jupyter-widgets/controls",
          "model_name": "FloatSliderModel",
          "model_module_version": "1.5.0",
          "state": {
            "_dom_classes": [],
            "_model_module": "@jupyter-widgets/controls",
            "_model_module_version": "1.5.0",
            "_model_name": "FloatSliderModel",
            "_view_count": null,
            "_view_module": "@jupyter-widgets/controls",
            "_view_module_version": "1.5.0",
            "_view_name": "FloatSliderView",
            "continuous_update": true,
            "description": "intercept",
            "description_tooltip": null,
            "disabled": false,
            "layout": "IPY_MODEL_7efea241e28a4b36a26b40fc711a12e2",
            "max": 5,
            "min": -5,
            "orientation": "horizontal",
            "readout": true,
            "readout_format": ".2f",
            "step": 0.25,
            "style": "IPY_MODEL_e7bc21a6282149c2810383e49f038b10",
            "value": 1
          }
        },
        "60f29bef822d440586320091644c1b19": {
          "model_module": "@jupyter-widgets/output",
          "model_name": "OutputModel",
          "model_module_version": "1.0.0",
          "state": {
            "_dom_classes": [],
            "_model_module": "@jupyter-widgets/output",
            "_model_module_version": "1.0.0",
            "_model_name": "OutputModel",
            "_view_count": null,
            "_view_module": "@jupyter-widgets/output",
            "_view_module_version": "1.0.0",
            "_view_name": "OutputView",
            "layout": "IPY_MODEL_cc788c12385f455394cfefea98163c45",
            "msg_id": "",
            "outputs": [
              {
                "output_type": "display_data",
                "data": {
                  "text/plain": "<Figure size 432x288 with 1 Axes>",
                  "image/png": "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\n"
                },
                "metadata": {
                  "needs_background": "light"
                }
              }
            ]
          }
        },
        "3c3c7ccf27de41edbae32bdb74c76f9f": {
          "model_module": "@jupyter-widgets/base",
          "model_name": "LayoutModel",
          "model_module_version": "1.2.0",
          "state": {
            "_model_module": "@jupyter-widgets/base",
            "_model_module_version": "1.2.0",
            "_model_name": "LayoutModel",
            "_view_count": null,
            "_view_module": "@jupyter-widgets/base",
            "_view_module_version": "1.2.0",
            "_view_name": "LayoutView",
            "align_content": null,
            "align_items": null,
            "align_self": null,
            "border": null,
            "bottom": null,
            "display": null,
            "flex": null,
            "flex_flow": null,
            "grid_area": null,
            "grid_auto_columns": null,
            "grid_auto_flow": null,
            "grid_auto_rows": null,
            "grid_column": null,
            "grid_gap": null,
            "grid_row": null,
            "grid_template_areas": null,
            "grid_template_columns": null,
            "grid_template_rows": null,
            "height": null,
            "justify_content": null,
            "justify_items": null,
            "left": null,
            "margin": null,
            "max_height": null,
            "max_width": null,
            "min_height": null,
            "min_width": null,
            "object_fit": null,
            "object_position": null,
            "order": null,
            "overflow": null,
            "overflow_x": null,
            "overflow_y": null,
            "padding": null,
            "right": null,
            "top": null,
            "visibility": null,
            "width": null
          }
        },
        "6224029924ec47c8a083b043473d950b": {
          "model_module": "@jupyter-widgets/base",
          "model_name": "LayoutModel",
          "model_module_version": "1.2.0",
          "state": {
            "_model_module": "@jupyter-widgets/base",
            "_model_module_version": "1.2.0",
            "_model_name": "LayoutModel",
            "_view_count": null,
            "_view_module": "@jupyter-widgets/base",
            "_view_module_version": "1.2.0",
            "_view_name": "LayoutView",
            "align_content": null,
            "align_items": null,
            "align_self": null,
            "border": null,
            "bottom": null,
            "display": null,
            "flex": null,
            "flex_flow": null,
            "grid_area": null,
            "grid_auto_columns": null,
            "grid_auto_flow": null,
            "grid_auto_rows": null,
            "grid_column": null,
            "grid_gap": null,
            "grid_row": null,
            "grid_template_areas": null,
            "grid_template_columns": null,
            "grid_template_rows": null,
            "height": null,
            "justify_content": null,
            "justify_items": null,
            "left": null,
            "margin": null,
            "max_height": null,
            "max_width": null,
            "min_height": null,
            "min_width": null,
            "object_fit": null,
            "object_position": null,
            "order": null,
            "overflow": null,
            "overflow_x": null,
            "overflow_y": null,
            "padding": null,
            "right": null,
            "top": null,
            "visibility": null,
            "width": null
          }
        },
        "0d91b8dcd2a648d8a3f2f245870ae2aa": {
          "model_module": "@jupyter-widgets/controls",
          "model_name": "SliderStyleModel",
          "model_module_version": "1.5.0",
          "state": {
            "_model_module": "@jupyter-widgets/controls",
            "_model_module_version": "1.5.0",
            "_model_name": "SliderStyleModel",
            "_view_count": null,
            "_view_module": "@jupyter-widgets/base",
            "_view_module_version": "1.2.0",
            "_view_name": "StyleView",
            "description_width": "",
            "handle_color": null
          }
        },
        "7efea241e28a4b36a26b40fc711a12e2": {
          "model_module": "@jupyter-widgets/base",
          "model_name": "LayoutModel",
          "model_module_version": "1.2.0",
          "state": {
            "_model_module": "@jupyter-widgets/base",
            "_model_module_version": "1.2.0",
            "_model_name": "LayoutModel",
            "_view_count": null,
            "_view_module": "@jupyter-widgets/base",
            "_view_module_version": "1.2.0",
            "_view_name": "LayoutView",
            "align_content": null,
            "align_items": null,
            "align_self": null,
            "border": null,
            "bottom": null,
            "display": null,
            "flex": null,
            "flex_flow": null,
            "grid_area": null,
            "grid_auto_columns": null,
            "grid_auto_flow": null,
            "grid_auto_rows": null,
            "grid_column": null,
            "grid_gap": null,
            "grid_row": null,
            "grid_template_areas": null,
            "grid_template_columns": null,
            "grid_template_rows": null,
            "height": null,
            "justify_content": null,
            "justify_items": null,
            "left": null,
            "margin": null,
            "max_height": null,
            "max_width": null,
            "min_height": null,
            "min_width": null,
            "object_fit": null,
            "object_position": null,
            "order": null,
            "overflow": null,
            "overflow_x": null,
            "overflow_y": null,
            "padding": null,
            "right": null,
            "top": null,
            "visibility": null,
            "width": null
          }
        },
        "e7bc21a6282149c2810383e49f038b10": {
          "model_module": "@jupyter-widgets/controls",
          "model_name": "SliderStyleModel",
          "model_module_version": "1.5.0",
          "state": {
            "_model_module": "@jupyter-widgets/controls",
            "_model_module_version": "1.5.0",
            "_model_name": "SliderStyleModel",
            "_view_count": null,
            "_view_module": "@jupyter-widgets/base",
            "_view_module_version": "1.2.0",
            "_view_name": "StyleView",
            "description_width": "",
            "handle_color": null
          }
        },
        "cc788c12385f455394cfefea98163c45": {
          "model_module": "@jupyter-widgets/base",
          "model_name": "LayoutModel",
          "model_module_version": "1.2.0",
          "state": {
            "_model_module": "@jupyter-widgets/base",
            "_model_module_version": "1.2.0",
            "_model_name": "LayoutModel",
            "_view_count": null,
            "_view_module": "@jupyter-widgets/base",
            "_view_module_version": "1.2.0",
            "_view_name": "LayoutView",
            "align_content": null,
            "align_items": null,
            "align_self": null,
            "border": null,
            "bottom": null,
            "display": null,
            "flex": null,
            "flex_flow": null,
            "grid_area": null,
            "grid_auto_columns": null,
            "grid_auto_flow": null,
            "grid_auto_rows": null,
            "grid_column": null,
            "grid_gap": null,
            "grid_row": null,
            "grid_template_areas": null,
            "grid_template_columns": null,
            "grid_template_rows": null,
            "height": null,
            "justify_content": null,
            "justify_items": null,
            "left": null,
            "margin": null,
            "max_height": null,
            "max_width": null,
            "min_height": null,
            "min_width": null,
            "object_fit": null,
            "object_position": null,
            "order": null,
            "overflow": null,
            "overflow_x": null,
            "overflow_y": null,
            "padding": null,
            "right": null,
            "top": null,
            "visibility": null,
            "width": null
          }
        }
      }
    }
  },
  "cells": [
    {
      "cell_type": "markdown",
      "metadata": {
        "id": "aJfVdZy6xR34"
      },
      "source": [
        " <img src = 'https://drive.google.com/uc?id=1cPtoRUIVZ2jWaiIl8z1fm4R4V3kwQfZh\n",
        "' width=\"170\" height=\"190\" align = \"left\">\n",
        "# <font color = \"green\" > <b>Obiective</b></font> \n",
        "Prin parcurgerea acestui capitol  :\n",
        "\n",
        "*   veți întelege ce este regresia şi în particular veți învăța despre regresia liniară\n",
        "*   veți implementa regresia liniară în Python\n",
        "*   veţi utiliza Excel pentru regresie liniară\n",
        "*   veți analiza comparativ regresia și clasificarea, ambele fiind tehnici de învățare supervizată\n"
      ]
    },
    {
      "cell_type": "markdown",
      "metadata": {
        "id": "zaYX6kCKdgsS"
      },
      "source": [
        "\n",
        "\n",
        " |  |\n",
        " |---------|\n",
        " |<img src='https://drive.google.com/uc?id=1HV8Tdtn20fD2wdlz1hXrFRvgyQ-ZATIv' width=\"550\"  ><figcaption align = \"center\"> |"
      ]
    },
    {
      "cell_type": "markdown",
      "metadata": {
        "id": "9u4LpGwRqGgw"
      },
      "source": [
        "Utilitatea Regresiei\n",
        "\n",
        "De obicei, ai nevoie de regresie dacă vrei să știi cum un fenomen îl influențează pe altul, sau când încerci să faci o predicție pentru o valoare încă necunoscută.\n",
        "De exemplu poţi folosi regresia pentru a prezice:\n",
        "*  cât de mult notele la examene influențează salariul pe care o sa îl ai în viitor.\n",
        "* câtă electricitate o să consume orașul tău în următoarea oră pe baza temperaturii de afară, a zilei și a orei.\n",
        "* valoarea unei case în funcție de suprafața ei.\n",
        "* tensiunea arterială a unui pacient/unei paciente în funcție de dozajul unui medicament prescris de medic.\n",
        "\n",
        "**Observație:** Diferența dintre regresie și clasificare ține de formatul datelor de ieșire. Pentru clasificare scopul e să atribuim fiecărui exemplu o eticheta dintr-un set finit și fix de etichete. Pentru regresie scopul este de a descoperi relația dintre diferite cantitați, datele de ieșire fiind numere reale."
      ]
    },
    {
      "cell_type": "markdown",
      "metadata": {
        "id": "JDJWD9d0L2qR"
      },
      "source": [
        "<img src = 'https://drive.google.com/uc?id=1jEejbOFGv_0IMqcKDrD2ro1q4_OV7BYX' align = \"center\"><figcaption align = \"center\"> Figura 1. Exemple de utilizare a regresiei</figcaption>\n",
        "\n",
        "\n"
      ]
    },
    {
      "cell_type": "markdown",
      "metadata": {
        "id": "27uMhb170xg-"
      },
      "source": [
        "# Bibliotecile ***numpy*** și ***matplotlib***"
      ]
    },
    {
      "cell_type": "code",
      "metadata": {
        "id": "lPKyAdAy015m"
      },
      "source": [
        "# We import numpy, which is a scientific library for python.\n",
        "import numpy as np\n",
        "# We also import matplotlib, which is a useful plotting library for python.\n",
        "import matplotlib.pyplot as plt"
      ],
      "execution_count": null,
      "outputs": []
    },
    {
      "cell_type": "markdown",
      "metadata": {
        "id": "MJhRSx6Qp8ss"
      },
      "source": [
        "#Definirea funcțiilor utile"
      ]
    },
    {
      "cell_type": "code",
      "metadata": {
        "id": "HoO48X2I3DN4"
      },
      "source": [
        "# Helper functions\n",
        "def plot_observed_vs_predicted(x, y, y_hat, theta_hat):\n",
        "  \"\"\" Plots the observed vs the predicted data.\n",
        "\n",
        "  Args:\n",
        "      x (ndarray): observed x values.\n",
        "      y (ndarray): observed y values.\n",
        "      y_hat (ndarray): predicted y values.\n",
        "      theta_hat (float): slope parameter calculated.\n",
        "\n",
        "  \"\"\"\n",
        "  fig, ax = plt.subplots()\n",
        "  ax.scatter(x, y, label='Observed')  # our data scatter plot\n",
        "  ax.plot(x, y_hat, color='r', label='Fit')  # our estimated model\n",
        "  # plot residuals\n",
        "  ymin = np.minimum(y, y_hat)\n",
        "  ymax = np.maximum(y, y_hat)\n",
        "  ax.vlines(x, ymin, ymax, 'g', alpha=0.5, label='Residuals')\n",
        "  ax.set(\n",
        "      title=fr\"$\\hat{{\\theta}}$ = {theta_hat:0.2f}, MSE = {mse(x, y, theta_hat):.2f}\",\n",
        "      xlabel='x',\n",
        "      ylabel='y'\n",
        "  )\n",
        "  ax.legend()\n",
        "\n",
        "def generate_data(slope=1.0, intercept=0.0, n_samples=20):\n",
        "  \"\"\" Generates some simulated data.\n",
        "\n",
        "  Args:\n",
        "      slope (float): the slope of the line.\n",
        "      intercept (float): the intercept of the line.\n",
        "      n_samples (int): observed y values.\n",
        "\n",
        "  Returns:\n",
        "      x (ndarray): the featues (inputs).\n",
        "      y_perfect (ndarray): the perfect responses, without any noise.\n",
        "      y (ndarray): the responses (outputs), containing noise.\n",
        "  \"\"\"\n",
        "  \n",
        "  # We obtain x, the features (or inputs) of the problem, by drawing samples\n",
        "  # from a uniform distribution over the interval [0,9).\n",
        "  x = 9 * np.random.rand(n_samples)\n",
        "\n",
        "  # We obtain y_perfect response as the linear relationship: theta * x.\n",
        "  # This represents the perfect, deterministic response.\n",
        "  y_perfect = slope * x + intercept\n",
        "\n",
        "  # However, we know that this is rarely the case in real life.\n",
        "  # There is no perfect relationship between x and y. This means that\n",
        "  # sleeping 7 hours does not guarantee me a grade of 9. To model a more \n",
        "  # realistic relationship, we need to add some noise to y_perfect.\n",
        "  noise = np.random.randn(n_samples)  # sample from a standard normal distribution\n",
        "  # To model a realistic relationships  between x and y, we add noise.\n",
        "  y = y_perfect + noise\n",
        "  return x, y_perfect, y\n",
        "\n",
        "def plot_observed(x, y):\n",
        "  \"\"\"Plots the observed relationship between the input-output data.\n",
        "\n",
        "  Args:\n",
        "      x (ndarray): the features.\n",
        "      y (ndarray): the responses.\n",
        "  \"\"\"\n",
        "  fig, ax = plt.subplots()\n",
        "  ax.scatter(x, y)  # produces a scatter plot\n",
        "  ax.set(\n",
        "      xlabel='Număr de ore dormite înainte de examen',\n",
        "      ylabel='Nota obținută la examen', xlim=(0, 9.1), ylim=(0, 10.3))\n",
        "  ax.set_xticks(np.arange(0, 11, 2))\n",
        "  ax.set_yticks(np.arange(0, 11, 1))"
      ],
      "execution_count": null,
      "outputs": []
    },
    {
      "cell_type": "markdown",
      "metadata": {
        "id": "KQTSd5eYf-4o"
      },
      "source": [
        "## Exemplu practic\n",
        "*Să luăm următorul exemplu:* un profesor vrea să identifice cei mai importanți factori care îi influențează pe elevi să ia note mari la examene. El crede că unul din acești factori ar putea fi numărul de ore dormite în noaptea premergătoare examenului.\n",
        "\n",
        "Așa că, la următorul examen, își întreabă fiecare elev câte ore a dormit în noaptea precedentă. Acest număr se numește *observație* sau *proprietate a datelor de intrare* (feature sau input). Apoi, asociază fiecare *observație* cu nota obținută la examen de către elevul respectiv. Această notă se numește *obiectivul predicției* (target).\n",
        "\n",
        "Profesorul schițează grafic acest set de date.\n",
        "\n",
        "Prin execuția codului de mai jos, se obţine reprezentarea grafică a unui set de date format din 20 de exemple ipotetice în care fiecare punct corespunde unei perechi formată din:\n",
        "* numărul de ore dormite înainte de examen (*input*), pe axa OX\n",
        "* nota obținută la examen (*target*), pe axa OY"
      ]
    },
    {
      "cell_type": "code",
      "metadata": {
        "colab": {
          "base_uri": "https://localhost:8080/",
          "height": 279
        },
        "id": "XDHj9znv8ASo",
        "outputId": "eaf26137-0f2c-471e-d9ed-52e6d476df92"
      },
      "source": [
        " #Execute this cell to generate some data and then plot it.\n",
        "\n",
        "# Generate some simulated data.\n",
        "x, y_perfect, y = generate_data(slope=0.8, intercept=1.8, n_samples=20)\n",
        "\n",
        "# Plots the observed data. Features on x-axis, responses on y-axis. \n",
        "plot_observed(x, y)"
      ],
      "execution_count": null,
      "outputs": [
        {
          "output_type": "display_data",
          "data": {
            "text/plain": [
              "<Figure size 432x288 with 1 Axes>"
            ],
            "image/png": "[encoded data removed]"
          },
          "metadata": {
            "needs_background": "light"
          }
        }
      ]
    },
    {
      "cell_type": "markdown",
      "metadata": {
        "id": "3LFcmD55vUpl"
      },
      "source": [
        "Profesorul ar vrea acum să afle care este *relația* dintre numărul de ore dormite și notele elevilor.\n",
        "\n",
        " Se poate presupune că elevii care sunt odihniți la examen vor avea capacitatea de concentrare mai mare și, astfel, vor avea o performanță mai bună. \n",
        "Dar putem ști cu siguranță dacă acest lucru e adevărat❓\n",
        "\n",
        "Altfel spus: dacă știm câte ore a dormit un elev înainte de examen, putem prezice ce notă va lua❓\n",
        "\n",
        "\n",
        "\n"
      ]
    },
    {
      "cell_type": "markdown",
      "metadata": {
        "id": "5svTj5bgPWIV"
      },
      "source": [
        "\n",
        "Din punct de vedere matematic, un mod de a răspunde la aceste întrebări ar fi să găsim o funcție matematică $f$ care asociază fiecare *observație* $x$ cu *obiectivul predicției* $y$ corespunzător.\n",
        "\n",
        "Pentru început, haideți să analizăm 3 funcții matematice des întâlnite și să vedem cât de bine redau relația dintre datele elevilor. \n",
        "\n",
        "Executând codul de  mai jos avem reprezentarea grafică a acestor funcții pentru datele corespunzătoare celor 20 elevi\n",
        "\n",
        "1. În primul grafic avem o funcție logaritmică $f(x) = b{\\times}log_a(x)$.\n",
        "2. În al doilea grafic avem o funcție liniară $f(x) = ax + b$.\n",
        "3. În al treilea grafic avem o funcție polinomială $f(x) = ax^2 + bx + c$. \n",
        "\n",
        "(unde $a, b, c$ sunt niște constante pe care le putem ignora momentan).\n",
        "\n",
        "* Analizați graficele obținute\n",
        "* Care funcție credeți că redă cel mai bine relația dintre numărul de ore dormite și notele elevilor❓"
      ]
    },
    {
      "cell_type": "code",
      "metadata": {
        "colab": {
          "base_uri": "https://localhost:8080/",
          "height": 415
        },
        "id": "9iLbdjEMRJBN",
        "outputId": "d1aaccfc-5f16-493b-a58c-5bb8ec91f724"
      },
      "source": [
        "#  Execute this cell to plot 3 possible functions fitting the data.\n",
        "\n",
        "def logarithmic(xs, scale=1.0, rate=1.0, x0=0.0):\n",
        "  ys = scale * np.log(rate * (xs - x0))\n",
        "  return ys\n",
        "\n",
        "\n",
        "def linear(xs, slope=3.0, intercept=-4.3):\n",
        "  ys = slope * xs + intercept\n",
        "  return ys\n",
        "\n",
        "\n",
        "def quadratic(xs, slope=0.5, intercept=-0.5):\n",
        "  ys = slope * (xs ** 2) + intercept\n",
        "  return ys\n",
        "\n",
        "\n",
        "fig, (ax1, ax2, ax3) = plt.subplots(1, 3, figsize=(12, 5))\n",
        "fig.suptitle('Reprezentare grafică a 3 funcții diferite. Care redă cel mai bine relația dintre date?', \n",
        "             size=13, y=1.1)\n",
        "\n",
        "x_ = np.linspace(0.1, 10, 100)\n",
        "\n",
        "# Logarithmic\n",
        "log_y = logarithmic(x_, scale=3.5, rate=1.0, x0=-1)\n",
        "ax1.scatter(x, y, label='data points')\n",
        "ax1.plot(x_, log_y, color='red')\n",
        "ax1.set(title='Funcția logaritmică', label='f(x) = clog(ax+b)',\n",
        "       xlabel='Număr de ore dormite înainte de examen', \n",
        "       ylabel='Nota obținută la examen', xlim=(0, 9.1), ylim=(0, 10.3))\n",
        "ax1.set_xticks(np.arange(0, 11, 2))\n",
        "ax1.set_yticks(np.arange(0, 11, 1))\n",
        "\n",
        "# Linear\n",
        "linear_y = linear(x_, slope=1.05, intercept=0.7)\n",
        "ax2.scatter(x, y, label='data points')\n",
        "ax2.plot(x_, linear_y, color='red')\n",
        "ax2.set(title='Funcția liniară', label='f(x) = ax+b',\n",
        "       xlabel='Număr de ore dormite înainte de examen', \n",
        "       ylabel='Nota obținută la examen', xlim=(0, 9.1), ylim=(0, 10.3))\n",
        "ax2.set_xticks(np.arange(0, 11, 2))\n",
        "ax2.set_yticks(np.arange(0, 11, 1))\n",
        "\n",
        "# Logarithmic\n",
        "quadratic_y = quadratic(x_, slope=0.5, intercept=1.0)\n",
        "ax3.scatter(x, y, label='Data points')\n",
        "ax3.plot(x_, quadratic_y, color='red')\n",
        "ax3.set(title='Funcția polinomială de grad 2', label='f(x) = ax^2 + b',\n",
        "       xlabel='Număr de ore dormite înainte de examen',\n",
        "       ylabel='Nota obținută la examen', xlim=(0, 9.1), ylim=(0, 10.3))\n",
        "ax3.set_xticks(np.arange(0, 11, 2))\n",
        "ax3.set_yticks(np.arange(0, 11, 1))\n",
        "\n",
        "plt.tight_layout(pad=1.2)\n",
        "plt.show()"
      ],
      "execution_count": null,
      "outputs": [
        {
          "output_type": "display_data",
          "data": {
            "text/plain": [
              "<Figure size 864x360 with 3 Axes>"
            ],
            "image/png": "[encoded data removed]"
          },
          "metadata": {
            "needs_background": "light"
          }
        }
      ]
    },
    {
      "cell_type": "markdown",
      "metadata": {
        "id": "r46IXdBrO2Ti"
      },
      "source": [
        "Dacă ați intuit că funcția liniară redă cel mai bine relația dintre numărul de ore dormite și notele elevilor, altfel spus aproximează cel mai bine datele, aveți dreptate. \n",
        "\n",
        "Cum ați gândit❓ \n",
        "\n",
        "Probabil v-ați uitat la *funcția care trece prin cât mai multe puncte și care e foarte aproape de punctele prin care nu trece.*\n",
        "\n",
        "Desigur, niciuna dintre cele 3 funcții nu redă cu exactitate  relația dintre numărul de ore dormite și notele elevilor. Dar funcția liniară le aproximează cel mai bine. \n",
        "\n",
        "\n"
      ]
    },
    {
      "cell_type": "markdown",
      "metadata": {
        "id": "Na4EyksNR6Ds"
      },
      "source": [
        "\n",
        "Să analizăm funcția liniară:\n",
        "\n",
        "$f(x) = ax + b$,   unde $a$ și $b$ sunt constante sau parametri ai funcției. \n",
        "\n",
        "Pentru simplificare, vom nota $y = f(x)$.\n",
        "\n",
        "În exemplul nostru legat de elevi, $x$ este numărul de ore dormite și $f(x)$ este nota obținută la examen.\n",
        "\n",
        "În regresia liniară, $f(x) = ax + b$, nu cunoaștem constantele (parametrii) $a$ și $b$. În schimb, ni se dă o mulțime de perechi $(x_i, y_i)$ care reprezintă \"setul nostru de date\" și învățarea automată, în acest context, înseamnă să aflăm constantele $a$ și $b$ astfel încât funcția să aproximeaze cel mai bine datele. \n",
        "\n",
        "Astfel, ulterior vom putea estima $y_i$ (nota la examen) și pentru alte valori $x_i$ inexistente în setul de date (alte numere de ore de somn dormite în noaptea premergătoare examenului).\n",
        "\n",
        "Dacă *relația* dintre date ar fi \"perfect liniară\", executând codul de mai jos, graficul care arată *relația* dintre orele dormite și notele obținute la examen ar arăta astfel:"
      ]
    },
    {
      "cell_type": "code",
      "metadata": {
        "colab": {
          "base_uri": "https://localhost:8080/",
          "height": 328
        },
        "id": "CGcj1FkngegS",
        "outputId": "03a38038-d037-4ac4-b8c3-387c00b45ea9"
      },
      "source": [
        "# Execute to plot the perfectly linear data points\n",
        "fig, ax = plt.subplots()\n",
        "fig.suptitle('Un set de date perfect liniar', size=14, y=1.1)\n",
        "\n",
        "# Linear\n",
        "ax.scatter(x, y_perfect, label='Un set de date perfect liniar')\n",
        "plt.legend()\n",
        "plt.tight_layout(pad=2.0)\n",
        "plt.show()"
      ],
      "execution_count": null,
      "outputs": [
        {
          "output_type": "display_data",
          "data": {
            "text/plain": [
              "<Figure size 432x288 with 1 Axes>"
            ],
            "image/png": "[encoded data removed]"
          },
          "metadata": {
            "needs_background": "light"
          }
        }
      ]
    },
    {
      "cell_type": "markdown",
      "metadata": {
        "id": "SU0rIJSZ1bJM"
      },
      "source": [
        "Dacă setul nostru de date ar arăta așa în viața reală, ar fi extrem de ușor să găsim funcția liniară care aproximează cel mai bine datele. Tot ce ar trebui să facem e să trasăm o dreaptă care trece prin toate punctele, ca în graficul de mai jos. \n",
        "\n",
        "Prin urmare, am putea prezice cu acuratețe de 100% ce notă va obține un elev dacă știm câte ore a dormit înainte de examen."
      ]
    },
    {
      "cell_type": "code",
      "metadata": {
        "colab": {
          "base_uri": "https://localhost:8080/",
          "height": 328
        },
        "id": "8mkNuTPwg_04",
        "outputId": "46abe738-f49a-4988-d40a-bdba1eb2634f"
      },
      "source": [
        "# Execute to plot the linear function on top of the perfectly linear data points\n",
        "fig, ax = plt.subplots()\n",
        "fig.suptitle(\n",
        "    'O funcție liniară ce redă legătura perfectă dintre date.\\n'\n",
        "    'Acesta este un exemplu sintetic, neplauzibil în viața reală.', \n",
        "    size=14, y=1.1)\n",
        "\n",
        "# Linear\n",
        "linear_y = linear(x, slope=0.8, intercept=1.8)\n",
        "ax.scatter(x, y_perfect, label='Puncte perfect liniare')\n",
        "ax.plot(x, linear_y, color='red', label='O funcție liniară ce redă legătura perfectă dintre date')\n",
        "plt.legend()\n",
        "plt.tight_layout(pad=2.0)\n",
        "plt.show()"
      ],
      "execution_count": null,
      "outputs": [
        {
          "output_type": "display_data",
          "data": {
            "text/plain": [
              "<Figure size 432x288 with 1 Axes>"
            ],
            "image/png": "[encoded data removed]"
          },
          "metadata": {
            "needs_background": "light"
          }
        }
      ]
    },
    {
      "cell_type": "markdown",
      "metadata": {
        "id": "kA2zjoPx1oA1"
      },
      "source": [
        "## Determinarea funcției de regresie liniară\n",
        "Deși în viața reală, datele **nu sunt perfect liniare**, putem presupune că datele sunt **aproximativ liniare**.\n",
        "Astfel, **REGRESIA LINIARĂ**, este o metodă de a determina parametrii $a$ și $b$ astfel încât funcția $f(x) = ax + b$  să aproximeze cât mai bine posibil setul de date. Spus altfel, când facem regresie lineară, începem prin a presupune ca relația între date e aproximativ lineară, si metoda ne ajută să găsim cea mai bună funcție lineara pentru datele noastre. Dacă presupunem ca relația între date nu e lineară, atunci această metodă nu ne poate ajuta.\n",
        "\n",
        "Să recapitulăm:\n",
        "* avem o funcție de forma $f(x) = ax + b$ \n",
        "* știm un set de valori $x_i$ și $y_i$ (în exemplul nostru $x_i$ reprezintă câte ore a dormit elevul $i$ înainte de examen și $y_i$ reprezintă ce notă a obținut acest elev la examen)\n",
        "* trebuie să determinăm $a$ și $b$ astfel încât $y_i ≈ a x_i + b$, astfel spus graficul funcției $f$ să aproximeze cât mai bine relația dintre *feature-uri* și *target-uri*. \n",
        "\n",
        "Graficul funcției $f$ se numește **linie de regresie**.\n",
        "\n",
        "Înainte de a rezolva matematic această problemă, lansăm provocarea de a  găsi, prin încercări, în graficul interactiv de mai jos, cele mai bune valori pentru $a$ (slope) și $b$ (intercept) astfel încât să se obțină o linie de regresie care aproximează datele cel mai bine."
      ]
    },
    {
      "cell_type": "code",
      "metadata": {
        "colab": {
          "base_uri": "https://localhost:8080/",
          "height": 343,
          "referenced_widgets": [
            "4050360cea6849d5ba29e208aa48b1de",
            "dad7751d3beb4e09912f718f1db5590b",
            "b97e2d471f54449380a04127fe31e27f",
            "60f29bef822d440586320091644c1b19",
            "3c3c7ccf27de41edbae32bdb74c76f9f",
            "6224029924ec47c8a083b043473d950b",
            "0d91b8dcd2a648d8a3f2f245870ae2aa",
            "7efea241e28a4b36a26b40fc711a12e2",
            "e7bc21a6282149c2810383e49f038b10",
            "cc788c12385f455394cfefea98163c45"
          ]
        },
        "id": "4B8O_5zk_YKw",
        "outputId": "d30e6ca1-7859-41fe-df8c-07a540851443"
      },
      "source": [
        "# Run cell to enable widget. \n",
        "#Modify the values for the slope (a) and the intercept (b) in the linear function f(x) = ax + b so that f best fits the data points.\n",
        "# No need to understand the code below! It's to setup an interactive plot.\n",
        "import ipywidgets as widgets\n",
        "\n",
        "xs = np.linspace(0, 10, 100)\n",
        "\n",
        "def refresh(slope=3.0, intercept=-5.0):\n",
        "  plt.scatter(x, y, label='Puncte asociate datelor observate')\n",
        "  plt.xlim(0, 9)\n",
        "  plt.ylim(0, 11)\n",
        "  ys = linear(xs, slope=slope, intercept=intercept)\n",
        "  plt.plot(xs, ys, lw=3, color='red', \n",
        "           label=f'f(x) = {slope} * x + {intercept}')\n",
        "  plt.title('Aproximarea datelor reale printr-o funcție liniară', size=13)\n",
        "  plt.legend()\n",
        "  plt.tight_layout(pad=2.0)\n",
        "  plt.show()\n",
        "\n",
        "\n",
        "_ = widgets.interact(\n",
        "    refresh, slope=(-2, 5, 0.5), intercept=(-5, 5, 0.25))"
      ],
      "execution_count": null,
      "outputs": [
        {
          "output_type": "display_data",
          "data": {
            "text/plain": [
              "interactive(children=(FloatSlider(value=3.0, description='slope', max=5.0, min=-2.0, step=0.5), FloatSlider(va…"
            ],
            "application/vnd.jupyter.widget-view+json": {
              "version_major": 2,
              "version_minor": 0,
              "model_id": "4050360cea6849d5ba29e208aa48b1de"
            }
          },
          "metadata": {}
        }
      ]
    },
    {
      "cell_type": "markdown",
      "metadata": {
        "id": "95tw-mTl5uXf"
      },
      "source": [
        "## Eroarea medie\n",
        "Probabil ați observat că pentru valori diferite ale constantelor $a$ si $b$ rezultă linii de regresie diferite.\n",
        "\n",
        "Pe baza încercărilor din graficul de mai sus, ce caracteristici ați observat la o linie de regresie bună❓ \n",
        "\n",
        "În termeni simpli, am putea spune că o linie de regresie bună este \"cât mai aproape\" de majoritatea punctelor. \n",
        "\n",
        "În termeni matematici, cea mai bună linia de regresie este aceea care are cea mai mică distanță dintre punctele de pe grafic (date reale) și linia regresiei (predicție).\n",
        "\n",
        "Cea mai folosită formulă de calcul a acestei diferențe se numește **eroarea pătratică medie**  (**Mean Squared Error**) \n",
        "\n",
        ">$eroare\\_medie = \\frac{1}{n}\\sum_{i=1}^{n}{(y_i  - (ax_i + b))^2}$\n",
        "\n",
        "\n",
        "unde $n$ este numărul de puncte $(x_i, y_i)$ ce corespund unor date reale\n",
        "\n",
        "Haideți să punem în practică această formulă pentru exemplu nostru.\n",
        "\n",
        "Fie punctul $(x_i, y_i)$ ce corespunde unui elev\n",
        "* elevul a dormit $x_i$ ore înainte de examen și a obținut nota $y_i$\n",
        "* predicția dată de funcția de regresie $f(x) = a x + b$ este că nota de la examen ar fi $a x_i + b$\n",
        "* apare diferența  $y_i - (a x_i + b)$ care poate fi pozitivă sau negativă\n",
        "* practic, s-a constatat că, pentru a evita valorile negative, este de preferat să utilizăm pătratul diferenței \n",
        "\n",
        "> $eroare = (y_i  - (ax_i + b))^2$\n",
        "\n",
        "* având $n$ puncte de forma $(x_i, y_i)$ provenite din observații reale, eroarea medie se obține ca medie aritmetică a erorii fiecărui punct\n",
        "\n",
        ">$eroare\\_medie = \\frac{1}{n}\\sum_{i=1}^{n}{(y_i  - (ax_i + b))^2}$.\n",
        "\n",
        "Executând codul de mai jos se determină eroarea pătratică medie (MSE sau Mean Squared Error) pentru 3 linii diferite de regresie."
      ]
    },
    {
      "cell_type": "code",
      "metadata": {
        "colab": {
          "base_uri": "https://localhost:8080/"
        },
        "id": "9UOJVC4TiWGM",
        "outputId": "67aa5a9a-2d57-4736-9f75-d2ee8e346aa9"
      },
      "source": [
        "def mse(x, y, slope, intercept=0.0):\n",
        "  \"\"\"Computes the mean squared error.\n",
        "\n",
        "  Args:\n",
        "    x (ndarray): An array of shape (num_examples,) that contains the features.\n",
        "    y (ndarray): An array of shape (num_examples,) that contains the responses.\n",
        "    slope (float): An estimate of the slope parameter.\n",
        "    intercept (float): An estimate of the intercept parameter.\n",
        "\n",
        "  Returns:\n",
        "    float: The mean squared error of the data with the estimated parameter.\n",
        "  \"\"\"\n",
        "  #### FOR THE STUDENTS TO IMPLEMENT ####\n",
        "  # Compute the estimated y.\n",
        "  y_hat = slope * x + intercept\n",
        "\n",
        "  # Compute the mean squared error.\n",
        "  mse = np.mean((y - y_hat) ** 2)\n",
        "  return mse\n",
        "\n",
        "# Plot different linear estimations and their associated mean squared error.\n",
        "a_values = [0.5, 1.0, 1.5]\n",
        "b_values = [1.0, 0.0, 2.0]\n",
        "for a, b in zip(a_values, b_values):\n",
        "  print(\"a=%.2f, b=%.2f => MSE (eroare medie) = %.2f\" % (a, b, mse(x, y, slope=a, intercept=b)))"
      ],
      "execution_count": null,
      "outputs": [
        {
          "output_type": "stream",
          "name": "stdout",
          "text": [
            "a=0.50, b=1.00 => MSE (eroare medie) = 4.54\n",
            "a=1.00, b=0.00 => MSE (eroare medie) = 1.61\n",
            "a=1.50, b=2.00 => MSE (eroare medie) = 19.88\n"
          ]
        }
      ]
    },
    {
      "cell_type": "markdown",
      "metadata": {
        "id": "Arx7vAEScPfL"
      },
      "source": [
        "Executând codul de mai jos se vizualizează eroare medie (MSE sau Mean Squared Error) pentru 3 linii diferite de regresie."
      ]
    },
    {
      "cell_type": "code",
      "metadata": {
        "colab": {
          "base_uri": "https://localhost:8080/",
          "height": 295
        },
        "id": "mav0dYQqj48o",
        "outputId": "62b5a256-67c1-4777-f3f5-66a984483acf"
      },
      "source": [
        "\n",
        "\n",
        "# Execute this cell to visualize the estimated models.\n",
        "\n",
        "fig, axes = plt.subplots(ncols=3, figsize=(18, 4))\n",
        "for a, b, ax in zip(a_values, b_values, axes):\n",
        "\n",
        "  # True data\n",
        "  ax.scatter(x, y, label='Puncte asociate datelor observate')  # our data scatter plot\n",
        "\n",
        "  # Compute and plot predictions\n",
        "  y_hat = a * x + b\n",
        "  ax.plot(x, y_hat, color='r', label='Funcția de regresie liniară')  # our estimated model\n",
        "\n",
        "  ax.set(\n",
        "      title= fr'a={a} și b={b} => MSE = {mse(x, y, a, b):.2f}',\n",
        "      xlabel='x',\n",
        "      ylabel='y'\n",
        "  );\n",
        "\n",
        "axes[0].legend()\n",
        "plt.show()"
      ],
      "execution_count": null,
      "outputs": [
        {
          "output_type": "display_data",
          "data": {
            "text/plain": [
              "<Figure size 1296x288 with 3 Axes>"
            ],
            "image/png": "[encoded data removed]"
          },
          "metadata": {
            "needs_background": "light"
          }
        }
      ]
    },
    {
      "cell_type": "markdown",
      "metadata": {
        "id": "N8piZNyXHo7W"
      },
      "source": [
        "Prin urmare, pornind de la setul nostru de date, determinăm $a$ și $b$ astfel încât $eroarea\\_medie$ să fie minimă.\n",
        "\n",
        "De la analiză matematică, știm că pentru a determina minimul unei funcții trebuie să îi calculăm derivata și să aflăm în ce punct este egală cu 0. \n",
        "\n",
        "Dacă notăm:\n",
        "\n",
        "\\begin{align}\n",
        "&\\bar{x} = \\frac{1}{n} \\sum_{i=1}^n x_i \\\\\n",
        "&\\bar{y} = \\frac{1}{n} \\sum_{i=1}^n y_i\n",
        "\\end{align}\n",
        "\n",
        "obţinem\n",
        "\\begin{align}\n",
        "a = \\frac{\\sum_{i=1}^n\\left(y_ix_i - \\bar{y}\\bar{x}\\right)}{\\sum_{i=1}^n \\left(x_i^2 - \\bar{x}^2\\right)}\n",
        "\\end{align}\n",
        "\n",
        "şi\n",
        "\\begin{align}\n",
        "b = \\bar{y} - a\\bar{x}\n",
        "\\end{align}\n",
        "\n",
        "\n",
        "[Demonstrația completă este aici](#mate)\n",
        "\n",
        "\n",
        "Cu valorile pentru $a$ și $b$ obținute avem funcția $f(x) = a x + b$ cu \n",
        "cea mai bună linie de regresie, pentru care eroarea medie e minimă!\n",
        "\n",
        "Executând codul de mai jos, reprezentăm grafic cea mai bună linie de regresie pentru datele noastre, utilizând valoarea lui $a$ și $b$ determinată mai sus:\n"
      ]
    },
    {
      "cell_type": "code",
      "metadata": {
        "colab": {
          "base_uri": "https://localhost:8080/",
          "height": 281
        },
        "id": "7GRt28UUeMli",
        "outputId": "12f7b34a-b679-4867-911d-558f12b831a4"
      },
      "source": [
        "def linear_regression(x, y):\n",
        "  \"\"\"Solve the normal equations to produce the value of the slope that minimizes\n",
        "    mean squared error.\n",
        "\n",
        "    Args:\n",
        "    x (ndarray): An array of shape (samples,) that contains the input values.\n",
        "    y (ndarray): An array of shape (samples,) that contains the corresponding\n",
        "      measurement values to the inputs.\n",
        "\n",
        "  Returns:\n",
        "    float: the value for theta_hat arrived from minimizing MSE\n",
        "  \"\"\"\n",
        "  #### For students to implement ####\n",
        "  numerator = np.sum(x * y)\n",
        "  denominator =  np.sum(x ** 2)\n",
        "  slope = numerator / denominator\n",
        "  return slope\n",
        "\n",
        "# Calculate the slope\n",
        "slope = linear_regression(x, y)\n",
        "\n",
        "# Plot the observed data points and the estimated function.\n",
        "plt.scatter(x, y, label='Puncte asociate datelor observate')\n",
        "plt.title('Cea mai bună funcți de regresie liniară. MSE=%.2f.' % mse(x, y, slope))\n",
        "plt.plot(x, slope * x, label='Funcția de regresie liniară f(x) = %.2f * x' % slope, color='r')\n",
        "plt.legend()\n",
        "plt.show()"
      ],
      "execution_count": null,
      "outputs": [
        {
          "output_type": "display_data",
          "data": {
            "text/plain": [
              "<Figure size 432x288 with 1 Axes>"
            ],
            "image/png": "[encoded data removed]"
          },
          "metadata": {
            "needs_background": "light"
          }
        }
      ]
    },
    {
      "cell_type": "markdown",
      "metadata": {
        "id": "_SpjFxJPLmz9"
      },
      "source": [
        "Acum avem o metodă completă de a calcula Regresia Liniară, prin care putem prezice valoarea oricărui $f(x)$ pe baza observațiilor $(x_i, y_i)$ din setul nostru de date.\n",
        "\n",
        "Până acum ne-am uitat la a face Regresie Liniară cu *observații* uni-dimensionale, adica $x$ fiind un numar real. În următoarea secțiune vom explora cum putem să facem regresie liniară atunci când avem *observați* multi-dimensionale."
      ]
    },
    {
      "cell_type": "markdown",
      "metadata": {
        "id": "HCHm7wKKfHno"
      },
      "source": [
        "# Regresie Liniară Multiplă\n",
        "În exemplul nostru, am creat un model care poate să prezică nota unui elev în examen doar pe baza numărului de ore dormite în noaptea dinaintea examenului. \n",
        "\n",
        "Este evident însă că numărul de ore dormite nu e singura observație (*feature*) care influențează rezultatul la examen. Cu siguranță ar trebui să fie și numărul de ore de studiu ce poate fi considerat ca al doilea *feature*.\n",
        "\n",
        "Așadar, pentru fiecare student $i$, datele de intrare vor avea două observații: $x_{i_1}$, ce reprezintă numărul de ore dormite și $x_{i_2}$, care e numărul de ore de studiu.\n",
        "\n",
        "Metoda care identifică relația dintre date ce au două sau mai multe feature-uri se se numește **Regresie Liniară Multiplă** (Multiple Linear Regression)\n",
        "\n",
        "Pentru 2 observații (feature-uri) $x_{i_1}$ și $x_{i_2}$, funcția de regresie este:\n",
        "\n",
        "$f(x_1, x_2) = a + bx_1 + cx_2$.\n",
        "\n",
        "În timp ce graficul Regresiei Liniare este o dreaptă într-un plan 2D, graficul Regresiei Liniare Multiple în acest caz este reprezentat de un plan într-un spațiu 3D. \n",
        "\n",
        "Exact cum am arătat mai sus, obiectivul Regresiei este să găsească valorile optime pentru constantele $a$, $b$, $c$ (care se mai numesc și parametri), pentru care planul respectiv să fie cât mai aproape de setul nostru de date 3D. Adică, eroarea pătratică medie (Mean Squared Error) să fie cât mai mică. Ca și în cazul regresiei lineare, și în acest caz cu două sau mai multe dimensiuni se poate obține o formulă pentru a calcula parametrii optimi. Procesul este similar, doar că este mai complicat. \n",
        "\n",
        "\n"
      ]
    },
    {
      "cell_type": "markdown",
      "metadata": {
        "id": "hubMSuFsoYhp"
      },
      "source": [
        "# Regresie Non-Liniară\n",
        "\n",
        "Până acum am discutat despre modele de Regresie Liniară, în care relația dintre input şi output este aproximativ liniară. \n",
        "\n",
        "Dar dacă avem alte relații, precum exponențială (spre exemplu, când input-ul crește cu 1, output-ul se multiplică cu $e$) sau logaritmică? \n",
        "\n",
        "În aceste cazuri, modelul de Regresie Liniară nu va putea niciodată să aproximeze datele cum trebuie. Din fericire, există multe metode parametrice de Machine Learning care pot rezolva această problemă, dar care nu vor fi prezentate în acest curs.\n",
        "\n",
        "In principiu aceste metode presupun o formă diferită pentru funcția $f$ care reflectă mai bine relația dintre observații şi obiectivul regresiei. Da, ca și în cazul formei lineare, aceste funcții vor depinde de un set de constante sau parametri care trebuie determinați pe baza setului de date de antrenare. In cazul non-linear, de cele mai multe ori, nu putem obține o formulă pentru a afla acești parametri ci trebuie sa folosim un algoritm iterativ pentru a-i descoperi. Cel mai popular algoritm, *gradient descent* utilizează derivata funcției, deci conceptul de derivare este esențial pentru a rezolva astfel de probleme."
      ]
    },
    {
      "cell_type": "markdown",
      "metadata": {
        "id": "UpL6Cqi9D_nE"
      },
      "source": [
        "#Rezumat"
      ]
    },
    {
      "cell_type": "markdown",
      "metadata": {
        "id": "CrEqqeb0kiLd"
      },
      "source": [
        "\n",
        "În acest capitol am învățat despre **regresie**, ca tehnică de învățare supervizată ce  analizează setul nostru de date pentru a aproxima relația dintre observații și valoarea care vrem sa o asociem fiecărei observații. Pentru regresie, datele de iesire sunt o valoare numerică, precum temperatură, greutate, timp, preț etc. \n",
        "În comparație cu *clasificarea*, în care fiecărei observații îi atribuim o etichetă, dintr-un set fix și finit de posibile valori, cum ar fi naționalitatea, tipuri de boala, cifra (0-9), etc. Ambele metode aparțin învățarii supervizate, iar observațiile pot fi de orice tip (discrete, continue, categorice..).\n",
        "\n",
        "\n"
      ]
    },
    {
      "cell_type": "markdown",
      "metadata": {
        "id": "xXvBLg59nmzB"
      },
      "source": [
        "# Știați că în Excel...\n",
        "* avem funcția **FORECAST.LINEAR(x; known_ys; known_xs)**\n",
        "care calculează sau prezice o valoare viitoare de-a lungul liniei de regresie utilizând valorile existente \n",
        "* poate fi reprezentată direct **linia de regresie (trendline)** pentru un set de date de antrenament\n",
        "\n",
        " <img src = 'https://drive.google.com/uc?id=1QBt0gOS0h0itKWF9Ok08Q99sfNMwAIOJ\n",
        "' width=\"10%\" align = \"center\">\n",
        "\n",
        "Care este predicția pentru consumul lunar de apă  pentru următoarele $k$ luni știind volumul de apă consumată în ultimele $n$ luni într-un oraș❓\n",
        "\n",
        "Vom folosi Google Sheets pentru a face această predicție\n",
        "\n",
        "**Pas 1.** Scriem setul de date de antrenament (ca in exemplul de mai jos)\n",
        "\n",
        "| Luna  | Consum de apă |\n",
        "|:-----:|:-------------:|\n",
        "|   1   |      7,2      |\n",
        "|   2   |      6,8      |\n",
        "|   3   |       8       |\n",
        "|   4   |       7       |\n",
        "|   5   |      8,9      |\n",
        "|   6   |      9,2      |\n",
        "|   7   |      7,3      |\n",
        "\n",
        "**Pas 2.** Inserăm un grafic de tip ***Diagramă cu puncte*** (***Scatter Chart***)\n",
        "\n",
        " <img src = 'https://drive.google.com/uc?id=1yMEY1no5ODIKUaDjfIlVAu8ZDQsuOhxs\n",
        "'  align = \"center\">\n",
        "\n",
        "\n",
        "**Pas 3.** Personalizăm diagrama adăugând ***linia de regresie*** (***trendline***)\n",
        "\n",
        " <img src = 'https://drive.google.com/uc?id=1zDPzDgzC9gKBx4dfkYkHjgKPuEuD5FR1\n",
        "'  align = \"center\">\n",
        "\n",
        "\n",
        "\n",
        "**Pas 4.** Completăm coloana ***Luna*** cu $k$ luni pentru care vom prezice consumul de apă. Corespunzător, în coloana ***Consum de apă*** adăugăm formula de calcul  **FORECAST.LINEAR(x; known_ys; known_xs)**\n",
        "\n",
        " <img src = 'https://drive.google.com/uc?id=1jYuDcykLr8d26vi6mI7RAbpXQtDS4Uz-\n",
        "'  align = \"center\">\n",
        "\n"
      ]
    },
    {
      "cell_type": "markdown",
      "metadata": {
        "id": "Y21lBeJMpaVf"
      },
      "source": [
        "#Mai mult "
      ]
    },
    {
      "cell_type": "markdown",
      "metadata": {
        "id": "I8BduquA1EBQ"
      },
      "source": [
        "\n",
        "<a name=\"mate\"></a>\n",
        "## Determinarea funcției de regresie liniară\n",
        "\n",
        "Fie $f(x)=ax+b$ , unde  $a$ și $b$  sunt constante sau parametri ai funcției.\n",
        "\n",
        "Vom determina $a$ și $b$ astfel încât eroarea pătratică medie $\\frac{1}{n}\\sum_{i=1}^{n}{(y_i  - (ax_i + b))^2}$ să fie minimă.\n",
        "\n",
        "Prin urmare, calculăm derivata și aflăm pentru ce valori a lui $a$ și $b$ este egală cu 0.\n",
        "\n",
        "Mai exact, considerăm eroarea medie mai întâi ca o funcție în $b$, $f(b) = \\frac{1}{n}\\sum_{i=1}^{n}{(y_i  - (ax_i + b))^2}$ şi calculăm derivata $f'(b)$ fața de necunoscuta $b$.  Această derivata trebuie sa fie $0$: \n",
        "\n",
        "$$ f'(b) = \\frac{1}{n}\\sum_{i=1}^n 2(y_i - (ax_i +b)) = 0 $$\n",
        "\n",
        "In același timp ne uităm la eroarea medie ca o funcție în $a$, $f(a) =\\frac{1}{n}\\sum_{i=1}^{n}{(y_i  - (ax_i + b))^2}$ și îi calculăm derivata $f'(a)$ fața de necunoscuta $a$. Și această derivată trebuie să fie $0$ pentru a obține eroarea minimă:\n",
        "\n",
        "$$ f'(a) = \\frac{1}{n}\\sum_{i=1}^n 2(y_i - (ax_i +b))x_i = 0 $$\n",
        "\n",
        "**Observații**. Pentru calculul derivatelor, am folosit următoarele formule învățate la ora de matematică:\n",
        "\n",
        "\n",
        "| -------------- Funcție $h(x)$ -------------- | -------------- Derivata lui $h(x)$ --------------                     |\n",
        "-------------------------------------------------|--------------------------------|\n",
        "|$ h(x) = a\\cdot f(x) + b\\cdot g(x) \\Rightarrow$ | $ h'(x) = a\\cdot f'(x) + b\\cdot g'(x)) $ |\n",
        "|$ h(x) = (f(x))^2 \\Rightarrow$                  | $ h'(x) = 2f(x) f'(x) $               |\n",
        "|$ h(x) = x \\Rightarrow$                         | $ h'(x) = 1 $                  |\n",
        "\n",
        "\n",
        "*Derivabilitatea reprezintă un concept extrem de folositor în inteligența artificială. Derivatele pot fi folosite pentru a găsi minimum unei funcții (cum este și cazut curent), sau pentru a aproxima o funcție arbitrară într-o regiune restrânsă a domeniului de definiţie cu o funcție liniara sau o funcție de gradul 2.* \n",
        "\n",
        "Dacă ne întoarcem la problema noastră, avem două ecuații cu două necunoscute, ceea ce înseamnă ca putem rezolva sistemul și descoperi valorile lui $a$ și $b$:\n",
        "\\begin{align}\n",
        "&f'(b) = \\frac{1}{n}\\sum_{i=1}^n 2(y_i - (ax_i +b)) = \\frac{2}{n} \\left(\\sum_{i=1}^n (y_i - ax_i)\\right) - 2b =0 \\\\\n",
        "&f'(a) = \\frac{1}{n}\\sum_{i=1}^n 2(y_i - (ax_i +b))x_i = \\frac{2}{n}\\left(\\sum_{i=1}^n x_iy_i -b\\sum_{i=1}^n x_i - a\\sum_{i=1}^n x_i^2\\right) = 0\n",
        "\\end{align}\n",
        "\n",
        "Pentru a simplifica notația, haideți să facem următoarele substituții:\n",
        "\\begin{align}\n",
        "&\\bar{x} = \\frac{1}{n} \\sum_{i=1}^n x_i \\\\\n",
        "&\\bar{y} = \\frac{1}{n} \\sum_{i=1}^n y_i\n",
        "\\end{align}\n",
        "\n",
        "Acum obţinem următoarea formulă pentru $f'(b)$:\n",
        "\\begin{align}\n",
        "&f'(b) = 2\\bar{y} -2a\\bar{x} -2b = 0\n",
        "\\end{align}\n",
        "\n",
        "De unde rezultă că:\n",
        "\\begin{align}\n",
        "b = \\bar{y} - a\\bar{x}\n",
        "\\end{align}\n",
        "\n",
        "\n",
        "\n",
        "Acum haideți să ne uităm la $f'(a)$. Avem:\n",
        "\n",
        "\\begin{align}\n",
        "& f'(a) = \\frac{2}{n}\\sum_{i=1}^n y_ix_i - \\frac{2a}{n}\\sum_{i=1}^nx_i^2 - 2b\\bar{x} = 0 \\Rightarrow\\\\\n",
        "&\\Rightarrow a \\frac{2}{n}\\sum_{i=1}^n x_i^2 = \\frac{2}{n}\\sum_{i=1}^n y_ix_i-2b\\bar{x}\n",
        "\\end{align}\n",
        "\n",
        "Ca și în cazul precedent am scăzut termenul care conține necunoscuta de interes $a$. Acum putem impărți ambele părți ale ecuației prin $2$ și înlocuim valoarea lui $b$ avem: \n",
        "\\begin{align}\n",
        "a \\frac{1}{n}\\sum_{i=1}^n x_i^2 = \\frac{1}{n}\\sum_{i=1}^n y_ix_i-b\\bar{x} = \\frac{1}{n}\\sum_{i=1}^n y_ix_i - \\bar{y}\\bar{x} + a\\bar{x}^2\n",
        "\\end{align}\n",
        "\n",
        "Putem scădea acum din ambele părți ale ecuației termenul $ a\\bar{x}^2$ și obținem următorul pas:\n",
        "\\begin{align}\n",
        "a\\left(\\frac{1}{n}\\sum_{i=1}^n x_i^2 - \\bar{x}^2\\right) = \\frac{1}{n}\\sum_{i=1}^n y_ix_i - \\bar{y}\\bar{x}\n",
        "\\end{align}\n",
        "\n",
        "Observăm că putem introduce $\\bar{x}^2$ în sumă (distribuind $\\frac{1}{n}\\bar{x}^2$ pentru fiecare termen). Procedăm similar cu $\\bar{y}\\bar{x}$ și obținem formula:\n",
        "\\begin{align}\n",
        "a\\frac{1}{n}\\sum_{i=1}^n \\left(x_i^2 - \\bar{x}^2\\right) = \\frac{1}{n}\\sum_{i=1}^n \\left(y_ix_i - \\bar{y}\\bar{x}\\right)\n",
        "\\end{align}\n",
        "\n",
        "De unde rezultă formula pentru $a$ împărțind ambele părți ale ecuației prin $\\frac{1}{n}\\sum_{i=1}^n \\left(x_i^2 - \\bar{x}^2\\right)$, unde $\\frac{1}{n}$ se simplifică : \n",
        "\n",
        "\\begin{align}\n",
        "a = \\frac{\\sum_{i=1}^n\\left(y_ix_i - \\bar{y}\\bar{x}\\right)}{\\sum_{i=1}^n \\left(x_i^2 - \\bar{x}^2\\right)}\n",
        "\\end{align}\n"
      ]
    },
    {
      "cell_type": "markdown",
      "metadata": {
        "id": "zPE-5Fm1tuNJ"
      },
      "source": [
        "##KNN este o soluție pentru problemele de regresie❓\n",
        "\n",
        "Algoritmul KNN utilizat în problemele de clasificare identifică cei mai apropiaţi K vecini pe baza distanţelor dintre date.\n",
        "\n",
        "Haideţi să utilizăm algoritmul KNN în cazul problemei noastre pentru a putea face o predicţie referitoare la nota pe care o va obţine un elev nou atunci când ştim câte ore a dormit în  noaptea premergătoare examenului.\n",
        "\n",
        "Setul nostru de date este format din $n$ perechi $(x_i, y_i)$ şi vrem să precizem, pentru un elev nou, nota $y_n$$_o$$_u$ atunci când ştim câte ore a dormit $x_n$$_o$$_u$\n",
        "\n",
        "\n",
        ">Pas 1. Calculăm distanța euclidiană dintre exemplul nostru necunoscut și fiecare intrare din setul de date\n",
        ">>modul ($x_n$$_o$$_u$- $x_i$), oricare ar fi $i=1,n$\n",
        "\n",
        ">Pas 2. Ordonăm crescător aceste distanțe și selectăm cele mai mici k distanțe (cei mai apropiați k vecini)\n",
        "\n",
        ">Pas 3. $y_n$$_o$$_u$ va fi  media aritmetică a notelor corespunzătoare celor k vecini selectaţi\n",
        "\n",
        "\n",
        "\n",
        "## Observaţii\n",
        ">1. În locul mediei aritmetice de la pasul 3, putem folosi media ponderată în care ponderile să reflecte similaritatea dintre observații\n",
        "\n",
        "\n",
        ">2. Prezicerea se face prin compararea exemplului nou cu toate exemplele din datele de antrenare, ceea ce ar putea însemna un timp de execuţie mare dacă vorbim de un set de date de miliaone de exemplare\n",
        "\n"
      ]
    },
    {
      "cell_type": "markdown",
      "metadata": {
        "id": "r8EGOUNQPdeB"
      },
      "source": [
        "## Metode parametrice şi metode non-parametrice\n",
        "\n",
        "**Metodele parametrice**, cum e cazul **regresiei liniare**, presupun existența unei funcții matematice $f$ care descrie relaţia dintre datele de intrare și cele de ieșire. Forma acestei funcții $f$ este decisă de noi şi poate fi o decizie dificilă ce necesită experienţă şi  folosirea intuiției noastre asupra relației dintre date. Recent o anumită formă pentru $f$ pare sa fie optimă pentru un număr foarte mare de cazuri. Această formă poartă numele de rețea neuronală (neural network) care e baza metodelor deep learning (deși anumite aspecte ale funcției tot trebuei decise de noi). \n",
        "\n",
        "Funcţia $f$ are un set de parametri (sau constante). Datele de antrenare sunt folosite pentru a descoperi valoarea optimă a acestor parametri astfel încât eroarea medie (Mean Squared Error) să fie minimă, apoi aceste date nu mai sunt necesare. Toată informația aflată în ele se află acum în parametrii modelului. \n",
        "Pentru un exemplu nou $x$, putem acum să facem o predicție pur si simplu calculând $f(x)$.\n",
        "\n",
        "\n",
        "\n",
        "**Modelele nonparametrice**, cum ar fi KNN, pentru a face predicţia, compară exemplul nou cu toate datele din setul de antrenare, ceea ce poate deveni foarte ineficient din punct de vedere computațional. \n",
        "\n",
        "\n"
      ]
    },
    {
      "cell_type": "markdown",
      "metadata": {
        "id": "LaH_aQLX_xni"
      },
      "source": [
        "## Metode parametrice pentru clasificare❓\n",
        "\n",
        "După cum am văzut, algoritmul KNN poate fi folosit pentru regresie. Putem folosi metode parametrice pentru clasificare ❓\n",
        "\n",
        "Răspunsul este da. Intuitiv, o metodă mai avansată pentru a formula problema de clasificare este ca funcția $f$ (sau modelul parametric) să prezică *probabilitatea* ca exemplu curent sa aparțină unei etichete sau alteia. \n",
        "\n",
        "O analiză mai detaliată a metodelor parametrice şi nonparametrice depăseşte scopul acestui curs. Dacă sunteţi curioşi, cu singuranţă veti găsi cursuri de aprofundare.\n",
        "\n",
        "\n"
      ]
    }
  ]
}